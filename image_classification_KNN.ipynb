{
 "cells": [
  {
   "cell_type": "markdown",
   "id": "f34abf59",
   "metadata": {},
   "source": [
    "# Image Classification using K-Nearest Neighbor (KNN) algorithm"
   ]
  },
  {
   "cell_type": "markdown",
   "id": "fce77a03",
   "metadata": {},
   "source": [
    "In this Jupyter-notebook, we are classifying the images of the numerical digits from the Python's Scikit-learn database using k-nearest neighbor algorithm. **K-Nearest Neighbors (KNN)** algorithm is a supervised learning algorithm in which the data is 'trained' with data points corresponding to their classification. To predict the class of a given data point, it takes into account the classes of the 'K' nearest data points and chooses the class in which the majority of the 'K' nearest data points belong to as the predicted class."
   ]
  },
  {
   "cell_type": "code",
   "execution_count": 1,
   "id": "f7ba3eb6",
   "metadata": {},
   "outputs": [],
   "source": [
    "import numpy as np\n",
    "import scipy.linalg as la\n",
    "import matplotlib.pyplot as plt\n",
    "import cvxpy as cp\n",
    "from sklearn.datasets import load_digits"
   ]
  },
  {
   "cell_type": "markdown",
   "id": "b7938f3d",
   "metadata": {},
   "source": [
    "## Dataset of digits"
   ]
  },
  {
   "cell_type": "code",
   "execution_count": 9,
   "id": "18ec14d6",
   "metadata": {},
   "outputs": [
    {
     "name": "stdout",
     "output_type": "stream",
     "text": [
      "/bin/bash: wget: command not found\r\n"
     ]
    }
   ],
   "source": [
    "!wget -O teleCust1000t.csv https://cf-courses-data.s3.us.cloud-object-storage.appdomain.cloud/IBMDeveloperSkillsNetwork-ML0101EN-SkillsNetwork/labs/Module%203/data/teleCust1000t.csv"
   ]
  },
  {
   "cell_type": "code",
   "execution_count": null,
   "id": "4bf275c4",
   "metadata": {},
   "outputs": [],
   "source": []
  }
 ],
 "metadata": {
  "kernelspec": {
   "display_name": "Python 3 (ipykernel)",
   "language": "python",
   "name": "python3"
  },
  "language_info": {
   "codemirror_mode": {
    "name": "ipython",
    "version": 3
   },
   "file_extension": ".py",
   "mimetype": "text/x-python",
   "name": "python",
   "nbconvert_exporter": "python",
   "pygments_lexer": "ipython3",
   "version": "3.9.16"
  }
 },
 "nbformat": 4,
 "nbformat_minor": 5
}

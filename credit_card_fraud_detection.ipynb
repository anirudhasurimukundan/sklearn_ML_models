{
 "cells": [
  {
   "cell_type": "markdown",
   "id": "4cb269a9",
   "metadata": {},
   "source": [
    "# Credit card fraud detection using AI"
   ]
  },
  {
   "cell_type": "markdown",
   "id": "6ff870fe",
   "metadata": {},
   "source": [
    "In this Jupyter notebook, I have implemented a faster credit card fraud detection model using Python's Scikit-learn and SnapML libraries. This is inspired from one of the assignments from the IBM's Machine Learning using Python Coursera course."
   ]
  },
  {
   "cell_type": "code",
   "execution_count": null,
   "id": "8cbfe424",
   "metadata": {},
   "outputs": [],
   "source": []
  }
 ],
 "metadata": {
  "kernelspec": {
   "display_name": "Python 3 (ipykernel)",
   "language": "python",
   "name": "python3"
  },
  "language_info": {
   "codemirror_mode": {
    "name": "ipython",
    "version": 3
   },
   "file_extension": ".py",
   "mimetype": "text/x-python",
   "name": "python",
   "nbconvert_exporter": "python",
   "pygments_lexer": "ipython3",
   "version": "3.9.16"
  }
 },
 "nbformat": 4,
 "nbformat_minor": 5
}
